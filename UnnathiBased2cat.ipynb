{
  "nbformat": 4,
  "nbformat_minor": 0,
  "metadata": {
    "colab": {
      "name": "UnnathiBased2cat.ipynb",
      "provenance": [],
      "collapsed_sections": [],
      "authorship_tag": "ABX9TyNoVYdMmgf4cEKMRXjtsT7h",
      "include_colab_link": true
    },
    "kernelspec": {
      "name": "python3",
      "display_name": "Python 3"
    },
    "language_info": {
      "name": "python"
    }
  },
  "cells": [
    {
      "cell_type": "markdown",
      "metadata": {
        "id": "view-in-github",
        "colab_type": "text"
      },
      "source": [
        "<a href=\"https://colab.research.google.com/github/Nikkuchan/BleepBot/blob/main/UnnathiBased2cat.ipynb\" target=\"_parent\"><img src=\"https://colab.research.google.com/assets/colab-badge.svg\" alt=\"Open In Colab\"/></a>"
      ]
    },
    {
      "cell_type": "code",
      "execution_count": 1,
      "metadata": {
        "id": "VVEjAnR78FIL"
      },
      "outputs": [],
      "source": [
        "import pandas as pd\n",
        "import numpy as np\n",
        "import tensorflow as tf\n",
        "from sklearn.feature_extraction.text import TfidfVectorizer\n",
        "from sklearn.feature_extraction.text import CountVectorizer\n",
        "from sklearn.feature_extraction.text import TfidfTransformer\n",
        "from sklearn.naive_bayes import MultinomialNB\n",
        "from sklearn.metrics import accuracy_score\n",
        "from sklearn.svm import LinearSVC\n",
        "from sklearn.svm import SVC\n",
        "from sklearn.ensemble import RandomForestClassifier\n",
        "from sklearn.model_selection import train_test_split\n",
        "from keras.models import Model\n",
        "from sklearn.metrics import classification_report\n",
        "from keras import layers, models, optimizers\n",
        "import sklearn.metrics as metrics\n",
        "from sklearn.feature_extraction import text \n",
        "import pickle\n",
        "import numpy as np\n",
        "import matplotlib.pyplot as plt\n",
        "from sklearn.metrics import f1_score\n",
        "from sklearn.metrics import precision_score\n",
        "from sklearn.metrics import recall_score"
      ]
    },
    {
      "cell_type": "code",
      "source": [
        "#just for word wrap purposes :)\n",
        "from IPython.display import HTML, display\n",
        "\n",
        "def set_css():\n",
        "  display(HTML('''\n",
        "  <style>\n",
        "    pre {\n",
        "        white-space: pre-wrap;\n",
        "    }\n",
        "  </style>\n",
        "  '''))\n",
        "get_ipython().events.register('pre_run_cell', set_css)"
      ],
      "metadata": {
        "id": "_boGYpXqcQPV"
      },
      "execution_count": 3,
      "outputs": []
    },
    {
      "cell_type": "code",
      "source": [
        "speech_data = pd.read_csv('/content/profanity_clean1k.csv')\n",
        "\n",
        "# split the dataset into training and testing datasets \n",
        "x_train, x_test, y_train, y_test = train_test_split(speech_data['Transcript'], speech_data['Category'], test_size=0.3, random_state=1)\n",
        "\n",
        "\n",
        "# create a count vectorizer object \n",
        "my_additional_stop_words = [\"akin\",\"ako\",\"mo\",\"ka\",\"tayo\",\"ikaw\",\"alin\",\"amin\",\n",
        "                 \"ay\",\"bababa\",\"dapat\",\"ginawa\",\"ginawang\",\"bawat\",\"ano\",\n",
        "                 \"dahil\",\"bilang\",\"tama\",\"na\",\"nga\",\"using\",\"si\",\"pati\",\"ang\",\n",
        "                 \"hala\",\"pre\",\"nag\",\"edi\",\"punta\",\"pinupuntahan\",\"lang\",\"sa\",\n",
        "                 \"mali\",\"-\",\"q\",\"mong\",\"date\",\"busog\",\"kayo\",\"kayong\",\"buka\",\n",
        "                 \"ibubuka\",\"nais\",\"try\",\"yung\",\"katropa\",\"gaya\",\"ng\",\"pic\",\"bang\",\n",
        "                 \"wala\",\"pakita\",\"computer\",\"ambag\",\"dito\",\"nabawasan\",\"bawas\",\n",
        "                 \"footballer\", \"napaka\",\"sayo\",\"balota\",\"bida\",\"pietro\",\"jett\",\n",
        "                 \"mag-text\",\"para\",\"may\",\"hindi\",\"ni\",\"ba\",\"dalawa\",\"salba\",\"tutok\",\n",
        "                 \"shadow\", \"install\",\"ballaran\",\"ito\",\"mga\",\"nalang\",\"noh\",\"baka\",\n",
        "                 \"samin\",\"mag\",\"nasa\",\"pa\",\"masa\",\"ata\",\"po\",\"ita\",\"ga\",\"kasi\",\"eh\",\n",
        "                 \"ol\",\"nang\",\"kang\",\"naman\",\"ko\",\"tae\",\"ata\",\"atang\",\"sana\",\"kung\",\"di\",\n",
        "                 \"ah\",\"much\",\"pag\",\"ni\",\"pagiging\",\"ha\",\"mo\",\"kasi\",\"lulugar\",\"nila\",\n",
        "                 \"don\",\"ngang\",\"tong\",\"hi\",\"niyo\",\"nating\",\"kayong\"]\n",
        "\n",
        "stop_words = text.ENGLISH_STOP_WORDS.union(my_additional_stop_words)\n",
        "cv = CountVectorizer(stop_words='english')\n",
        "cv.fit(speech_data['Transcript'])\n",
        "\n",
        "# transform the training and testing data using count vectorizer object\n",
        "x_train_count =  cv.transform(x_train)\n",
        "x_test_count =  cv.transform(x_test)\n",
        "\n",
        "tfidf_tr = TfidfTransformer()\n",
        "x_train_count_tfidf = tfidf_tr.fit_transform(x_train_count)\n",
        "x_test_count_tfidf = tfidf_tr.transform(x_test_count)\n",
        "\n",
        "# ngram level tf-idf \n",
        "tv_ngram = TfidfVectorizer(ngram_range=(1,2))\n",
        "tv_ngram.fit(speech_data['Transcript'])\n",
        "x_train_tfidf_ngram =  tv_ngram.transform(x_train)\n",
        "x_test_tfidf_ngram =  tv_ngram.transform(x_test)"
      ],
      "metadata": {
        "id": "90FlcG4797k3"
      },
      "execution_count": 2,
      "outputs": []
    },
    {
      "cell_type": "code",
      "source": [
        "print(x_train_count_tfidf)"
      ],
      "metadata": {
        "id": "LNt4AFwKcz3N"
      },
      "execution_count": null,
      "outputs": []
    },
    {
      "cell_type": "code",
      "source": [
        "print(cv.vocabulary_)"
      ],
      "metadata": {
        "id": "XzFdUWYlaoXM"
      },
      "execution_count": null,
      "outputs": []
    },
    {
      "cell_type": "code",
      "source": [
        "# encode document\n",
        "vector = cv.transform(speech_data['Transcript'])\n",
        "# summarize encoded vector\n",
        "print(vector.shape)\n",
        "print(vector.toarray())"
      ],
      "metadata": {
        "colab": {
          "base_uri": "https://localhost:8080/"
        },
        "id": "i5xlWI7Qd7DL",
        "outputId": "8d29a004-1539-4f1c-cb1d-3ef2ceac73e4"
      },
      "execution_count": 3,
      "outputs": [
        {
          "output_type": "stream",
          "name": "stdout",
          "text": [
            "(1000, 1300)\n",
            "[[0 0 0 ... 0 0 0]\n",
            " [0 0 0 ... 0 0 0]\n",
            " [0 0 0 ... 0 0 0]\n",
            " ...\n",
            " [0 0 0 ... 0 0 0]\n",
            " [0 0 0 ... 0 0 0]\n",
            " [0 0 0 ... 0 0 0]]\n"
          ]
        }
      ]
    },
    {
      "cell_type": "code",
      "source": [
        "speech_data['Category'].value_counts()"
      ],
      "metadata": {
        "colab": {
          "base_uri": "https://localhost:8080/"
        },
        "id": "DqwB6sGkAt7F",
        "outputId": "e36b2487-acc5-458c-f5cb-96ec828f0dca"
      },
      "execution_count": 4,
      "outputs": [
        {
          "output_type": "execute_result",
          "data": {
            "text/plain": [
              "not          500\n",
              "profanity    500\n",
              "Name: Category, dtype: int64"
            ]
          },
          "metadata": {},
          "execution_count": 4
        }
      ]
    },
    {
      "cell_type": "code",
      "source": [
        "def classifierModel(classifier, Xtrain, Ytrain, Xtest):\n",
        "    classifier.fit(Xtrain, Ytrain)\n",
        "    predictions = classifier.predict(Xtest)\n",
        "    print(\"\\nAccuracy     : \", accuracy_score(predictions, y_test), \n",
        "          \"\\nRecall Score : \", recall_score(predictions, y_test, average='weighted'),\n",
        "          \"\\nF1 score     : \", f1_score(predictions, y_test, average='weighted'),\n",
        "          \"\\nPrecision    : \", precision_score(predictions, y_test, average='weighted'))\n",
        "    \n",
        "    target_names = ['profanity', 'not']\n",
        "    print(classification_report(y_test, predictions, target_names=target_names))"
      ],
      "metadata": {
        "id": "LuXUj1WKAcRX"
      },
      "execution_count": 5,
      "outputs": []
    },
    {
      "cell_type": "code",
      "source": [
        "print(\"\\nNaive Bayes with Count Vectors: \")\n",
        "classifierModel(MultinomialNB(), x_train_count, y_train, x_test_count)\n",
        "\n",
        "print(\"\\nNaive Bayes with Count Vectors + TF-IDF: \")\n",
        "classifierModel(MultinomialNB(), x_train_count_tfidf, y_train, x_test_count_tfidf)\n",
        "\n",
        "print(\"\\nNaive Bayes with N-Gram Vectors: \")\n",
        "classifierModel(MultinomialNB(), x_train_tfidf_ngram, y_train, x_test_tfidf_ngram)"
      ],
      "metadata": {
        "colab": {
          "base_uri": "https://localhost:8080/"
        },
        "id": "48DOzhQbAgyn",
        "outputId": "4c702138-e9ca-4ca4-9d66-295edbaf105f"
      },
      "execution_count": 6,
      "outputs": [
        {
          "output_type": "stream",
          "name": "stdout",
          "text": [
            "\n",
            "Naive Bayes with Count Vectors: \n",
            "\n",
            "Accuracy     :  0.8733333333333333 \n",
            "Recall Score :  0.8733333333333333 \n",
            "F1 score     :  0.8757382509689922 \n",
            "Precision    :  0.9060770975056691\n",
            "              precision    recall  f1-score   support\n",
            "\n",
            "   profanity       1.00      0.74      0.85       147\n",
            "         not       0.80      1.00      0.89       153\n",
            "\n",
            "    accuracy                           0.87       300\n",
            "   macro avg       0.90      0.87      0.87       300\n",
            "weighted avg       0.90      0.87      0.87       300\n",
            "\n",
            "\n",
            "Naive Bayes with Count Vectors + TF-IDF: \n",
            "\n",
            "Accuracy     :  0.8866666666666667 \n",
            "Recall Score :  0.8866666666666667 \n",
            "F1 score     :  0.8884102564102564 \n",
            "Precision    :  0.9128798185941044\n",
            "              precision    recall  f1-score   support\n",
            "\n",
            "   profanity       1.00      0.77      0.87       147\n",
            "         not       0.82      1.00      0.90       153\n",
            "\n",
            "    accuracy                           0.89       300\n",
            "   macro avg       0.91      0.88      0.88       300\n",
            "weighted avg       0.91      0.89      0.88       300\n",
            "\n",
            "\n",
            "Naive Bayes with N-Gram Vectors: \n",
            "\n",
            "Accuracy     :  0.8933333333333333 \n",
            "Recall Score :  0.8933333333333333 \n",
            "F1 score     :  0.8947980185795806 \n",
            "Precision    :  0.9165532879818594\n",
            "              precision    recall  f1-score   support\n",
            "\n",
            "   profanity       1.00      0.78      0.88       147\n",
            "         not       0.83      1.00      0.91       153\n",
            "\n",
            "    accuracy                           0.89       300\n",
            "   macro avg       0.91      0.89      0.89       300\n",
            "weighted avg       0.91      0.89      0.89       300\n",
            "\n"
          ]
        }
      ]
    },
    {
      "cell_type": "code",
      "source": [
        "# pickle.dump(MultinomialNB(), open(\"multiNB.pkl\"))"
      ],
      "metadata": {
        "id": "OEoP1AepMMVP"
      },
      "execution_count": null,
      "outputs": []
    },
    {
      "cell_type": "code",
      "source": [
        "print(\"\\nLinearSVM with Count Vectors: \")\n",
        "classifierModel(SVC(kernel='linear'), x_train_count, y_train, x_test_count)\n",
        "\n",
        "print(\"\\nLinearSVM with Count Vectors + TF-IDF: \")\n",
        "classifierModel(SVC(kernel='linear'), x_train_count_tfidf, y_train, x_test_count_tfidf)\n",
        "\n",
        "print(\"\\nLinearSVM with N-Gram Vectors: \")\n",
        "classifierModel(SVC(kernel='linear'), x_train_tfidf_ngram, y_train, x_test_tfidf_ngram)"
      ],
      "metadata": {
        "colab": {
          "base_uri": "https://localhost:8080/"
        },
        "id": "sUqBoQ6QC6J5",
        "outputId": "4db2e14a-48e8-49f1-a907-c46b18d69401"
      },
      "execution_count": 11,
      "outputs": [
        {
          "output_type": "stream",
          "name": "stdout",
          "text": [
            "\n",
            "LinearSVM with Count Vectors: \n",
            "\n",
            "Accuracy     :  0.9866666666666667 \n",
            "Recall Score :  0.9866666666666667 \n",
            "F1 score     :  0.9866666666666667 \n",
            "Precision    :  0.9866666666666667\n",
            "              precision    recall  f1-score   support\n",
            "\n",
            "   profanity       0.99      0.99      0.99       147\n",
            "         not       0.99      0.99      0.99       153\n",
            "\n",
            "    accuracy                           0.99       300\n",
            "   macro avg       0.99      0.99      0.99       300\n",
            "weighted avg       0.99      0.99      0.99       300\n",
            "\n",
            "\n",
            "LinearSVM with Count Vectors + TF-IDF: \n",
            "\n",
            "Accuracy     :  0.98 \n",
            "Recall Score :  0.98 \n",
            "F1 score     :  0.9799982221432064 \n",
            "Precision    :  0.9803450268996489\n",
            "              precision    recall  f1-score   support\n",
            "\n",
            "   profanity       0.97      0.99      0.98       147\n",
            "         not       0.99      0.97      0.98       153\n",
            "\n",
            "    accuracy                           0.98       300\n",
            "   macro avg       0.98      0.98      0.98       300\n",
            "weighted avg       0.98      0.98      0.98       300\n",
            "\n",
            "\n",
            "LinearSVM with N-Gram Vectors: \n",
            "\n",
            "Accuracy     :  0.9666666666666667 \n",
            "Recall Score :  0.9666666666666667 \n",
            "F1 score     :  0.9666666666666667 \n",
            "Precision    :  0.9666666666666667\n",
            "              precision    recall  f1-score   support\n",
            "\n",
            "   profanity       0.97      0.97      0.97       147\n",
            "         not       0.97      0.97      0.97       153\n",
            "\n",
            "    accuracy                           0.97       300\n",
            "   macro avg       0.97      0.97      0.97       300\n",
            "weighted avg       0.97      0.97      0.97       300\n",
            "\n"
          ]
        }
      ]
    },
    {
      "cell_type": "code",
      "source": [
        "print(\"\\nRandom Forrest Classifier with Count Vectors: \")\n",
        "classifierModel(RandomForestClassifier(random_state=40,n_estimators=1024), x_train_count, y_train, x_test_count)\n",
        "\n",
        "print(\"\\nRandom Forrest Classifier with Count Vectors + TF-IDF: \")\n",
        "classifierModel(RandomForestClassifier(random_state=40,n_estimators=1024), x_train_count_tfidf, y_train, x_test_count_tfidf)\n",
        "\n",
        "print(\"\\nRandom Forrest Classifier with N-Gram Vectors: \")\n",
        "classifierModel(RandomForestClassifier(random_state=40,n_estimators=1024), x_train_tfidf_ngram, y_train, x_test_tfidf_ngram)"
      ],
      "metadata": {
        "colab": {
          "base_uri": "https://localhost:8080/"
        },
        "id": "HEB7V49eDDHf",
        "outputId": "dabcfa35-42dc-4eb1-a777-7bd547ef8e79"
      },
      "execution_count": 12,
      "outputs": [
        {
          "output_type": "stream",
          "name": "stdout",
          "text": [
            "\n",
            "Random Forrest Classifier with Count Vectors: \n",
            "\n",
            "Accuracy     :  0.96 \n",
            "Recall Score :  0.96 \n",
            "F1 score     :  0.96 \n",
            "Precision    :  0.96\n",
            "              precision    recall  f1-score   support\n",
            "\n",
            "   profanity       0.96      0.96      0.96       147\n",
            "         not       0.96      0.96      0.96       153\n",
            "\n",
            "    accuracy                           0.96       300\n",
            "   macro avg       0.96      0.96      0.96       300\n",
            "weighted avg       0.96      0.96      0.96       300\n",
            "\n",
            "\n",
            "Random Forrest Classifier with Count Vectors + TF-IDF: \n",
            "\n",
            "Accuracy     :  0.9533333333333334 \n",
            "Recall Score :  0.9533333333333334 \n",
            "F1 score     :  0.9533333333333334 \n",
            "Precision    :  0.9533333333333334\n",
            "              precision    recall  f1-score   support\n",
            "\n",
            "   profanity       0.95      0.95      0.95       147\n",
            "         not       0.95      0.95      0.95       153\n",
            "\n",
            "    accuracy                           0.95       300\n",
            "   macro avg       0.95      0.95      0.95       300\n",
            "weighted avg       0.95      0.95      0.95       300\n",
            "\n",
            "\n",
            "Random Forrest Classifier with N-Gram Vectors: \n",
            "\n",
            "Accuracy     :  0.9466666666666667 \n",
            "Recall Score :  0.9466666666666667 \n",
            "F1 score     :  0.946676154895333 \n",
            "Precision    :  0.9467698190387265\n",
            "              precision    recall  f1-score   support\n",
            "\n",
            "   profanity       0.95      0.94      0.95       147\n",
            "         not       0.94      0.95      0.95       153\n",
            "\n",
            "    accuracy                           0.95       300\n",
            "   macro avg       0.95      0.95      0.95       300\n",
            "weighted avg       0.95      0.95      0.95       300\n",
            "\n"
          ]
        }
      ]
    },
    {
      "cell_type": "code",
      "source": [
        "def avg(arr):\n",
        "    a = arr[0]\n",
        "    b = arr[1]\n",
        "    c = arr[2]\n",
        "    average = (a+b+c)/3\n",
        "    return average"
      ],
      "metadata": {
        "id": "M83MrlbCU55u"
      },
      "execution_count": 9,
      "outputs": []
    },
    {
      "cell_type": "code",
      "source": [
        "#Accuracy\n",
        "Models = ['MultinomialNB', 'LinearSVM', 'Random Forrest']\n",
        "\n",
        "NB_2_acc = [0.8733,0.8866,0.8933]\n",
        "LSVM_2_acc = [0.9867,0.98,0.9667]\n",
        "RF_2_acc = [0.96,0.9533,0.9467]\n",
        "\n",
        "print(\"Average NB: \",avg(NB_2_acc))\n",
        "print(\"Average LSVM: \",avg(LSVM_2_acc))\n",
        "print(\"Average RF: \",avg(RF_2_acc))\n",
        "\n",
        "n_groups = 3\n",
        "\n",
        "fig, ax = plt.subplots()\n",
        "\n",
        "index = np.arange(n_groups)\n",
        "bar_width = 0.2\n",
        "\n",
        "opacity = 0.9\n",
        "error_config = {'ecolor': '0.3'}\n",
        "\n",
        "rects1 = ax.bar(index, NB_2_acc, bar_width,\n",
        "                alpha=opacity, color='r', error_kw=error_config,\n",
        "                label=Models[0])\n",
        "\n",
        "rects2 = ax.bar(index + bar_width, LSVM_2_acc, bar_width,\n",
        "                alpha=opacity, color='y',\n",
        "                error_kw=error_config,\n",
        "                label=Models[1])\n",
        "\n",
        "rects3 = ax.bar(index + (bar_width*2), RF_2_acc, bar_width,\n",
        "                alpha=opacity, color='g',\n",
        "                error_kw=error_config,\n",
        "                label=Models[2])\n",
        "\n",
        "ax.set_xlabel('Classifier Models')\n",
        "ax.set_ylabel('Accuracy')\n",
        "ax.set_title('Accuracy of Classification Models Used')\n",
        "ax.set_xticks(index + bar_width)\n",
        "ax.set_xticklabels(('CountVectorizer', 'Count-TfidfTransformer', 'N-grams'))\n",
        "chartBox = ax.get_position()\n",
        "ax.set_position([chartBox.x0, chartBox.y0, chartBox.width*0.6, chartBox.height])\n",
        "ax.legend(loc='upper center', bbox_to_anchor=(1.25, 0.8), shadow=True, ncol=1)\n",
        "plt.ylim(0.5, 1.0)\n",
        "fig.tight_layout()\n",
        "plt.show()\n"
      ],
      "metadata": {
        "colab": {
          "base_uri": "https://localhost:8080/",
          "height": 349
        },
        "id": "ZgShnWIbU_9F",
        "outputId": "933f6dcc-7314-4b66-a195-f889d899d855"
      },
      "execution_count": 17,
      "outputs": [
        {
          "output_type": "stream",
          "name": "stdout",
          "text": [
            "Average NB:  0.8844\n",
            "Average LSVM:  0.9777999999999999\n",
            "Average RF:  0.9533333333333333\n"
          ]
        },
        {
          "output_type": "display_data",
          "data": {
            "text/plain": [
              "<Figure size 432x288 with 1 Axes>"
            ],
            "image/png": "[encoded data removed]"
          },
          "metadata": {
            "needs_background": "light"
          }
        }
      ]
    },
    {
      "cell_type": "code",
      "source": [
        "#precision\n",
        "NB_2_p = [0.9061,0.9129,0.9166]\n",
        "LSVM_2_p = [0.9867,0.9803,0.9667]\n",
        "RF_2_p = [ 0.9600,0.9533,0.9468]\n",
        "\n",
        "print(\"Average Recall NB: \",avg(NB_2_p))\n",
        "print(\"Average Recall LSVM: \",avg(LSVM_2_p))\n",
        "print(\"Average Recall RF: \",avg(RF_2_p))\n"
      ],
      "metadata": {
        "colab": {
          "base_uri": "https://localhost:8080/"
        },
        "outputId": "ff45929f-820e-4e2a-8231-f02c6ea79e4b",
        "id": "wMJL3M3nwtLw"
      },
      "execution_count": 10,
      "outputs": [
        {
          "output_type": "stream",
          "name": "stdout",
          "text": [
            "Average Recall NB:  0.9118666666666666\n",
            "Average Recall LSVM:  0.9779\n",
            "Average Recall RF:  0.9533666666666667\n"
          ]
        }
      ]
    },
    {
      "cell_type": "code",
      "source": [
        "#Recall Score\n",
        "NB_2_rec = [0.8733,0.8866,0.8933]\n",
        "LSVM_2_rec = [0.9867,0.9800,0.9667]\n",
        "RF_2_rec = [0.96,0.9533,0.9466]\n",
        "\n",
        "print(\"Average Recall NB: \",avg(NB_2_rec))\n",
        "print(\"Average Recall LSVM: \",avg(LSVM_2_rec))\n",
        "print(\"Average Recall RF: \",avg(RF_2_rec))\n"
      ],
      "metadata": {
        "colab": {
          "base_uri": "https://localhost:8080/"
        },
        "outputId": "b872e644-f265-46c1-a2bd-5d31d9fc5ebf",
        "id": "-eFyAPBkoZmA"
      },
      "execution_count": 13,
      "outputs": [
        {
          "output_type": "stream",
          "name": "stdout",
          "text": [
            "Average Recall NB:  0.8844\n",
            "Average Recall LSVM:  0.9777999999999999\n",
            "Average Recall RF:  0.9533\n"
          ]
        }
      ]
    },
    {
      "cell_type": "code",
      "source": [
        "#f1 Score\n",
        "NB_2_f1 = [0.9468,0.8926,0.9202]\n",
        "LSVM_2_f1 = [0.9665,0.9799,0.9736]\n",
        "RF_2_f1 = [0.9670,0.9669,0.9737]\n",
        "\n",
        "print(\"Average Recall NB: \",avg(NB_2_f1))\n",
        "print(\"Average Recall LSVM: \",avg(LSVM_2_f1))\n",
        "print(\"Average Recall RF: \",avg(RF_2_f1))\n"
      ],
      "metadata": {
        "colab": {
          "base_uri": "https://localhost:8080/"
        },
        "outputId": "8dc8884a-d258-43ca-c35a-56f889848747",
        "id": "gIXg3xVQuSeN"
      },
      "execution_count": 14,
      "outputs": [
        {
          "output_type": "stream",
          "name": "stdout",
          "text": [
            "Average Recall NB:  0.9198666666666666\n",
            "Average Recall LSVM:  0.9733333333333333\n",
            "Average Recall RF:  0.9692\n"
          ]
        }
      ]
    },
    {
      "cell_type": "code",
      "source": [
        "data = {'BERT,BiLSTM, LSTM':0.81, 'Naive Bayes':0.88, 'Linear SVM':0.98,\n",
        "\t\t'Random Forest':0.95}\n",
        "courses = list(data.keys())\n",
        "values = list(data.values())\n",
        "\n",
        "fig = plt.figure(figsize = (10, 5))\n",
        "\n",
        "# creating the bar plot\n",
        "plt.bar(courses, values, color ='maroon',\n",
        "\t\twidth = 0.6)\n",
        "\n",
        "plt.xlabel(\"Models\")\n",
        "plt.ylabel(\"Average F1 score\")\n",
        "plt.title(\"Comparison of F1 score with Previous Literatures\")\n",
        "plt.show()\n"
      ],
      "metadata": {
        "colab": {
          "base_uri": "https://localhost:8080/",
          "height": 354
        },
        "id": "a8_RuliXJXKT",
        "outputId": "c7df71d8-0e45-4117-aa63-141ccc2dae73"
      },
      "execution_count": 36,
      "outputs": [
        {
          "output_type": "display_data",
          "data": {
            "text/plain": [
              "<Figure size 720x360 with 1 Axes>"
            ],
            "image/png": "[encoded data removed]"
          },
          "metadata": {}
        }
      ]
    }
  ]
}