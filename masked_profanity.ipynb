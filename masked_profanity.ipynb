{
  "nbformat": 4,
  "nbformat_minor": 0,
  "metadata": {
    "colab": {
      "name": "masked_profanity",
      "provenance": [],
      "authorship_tag": "ABX9TyOpCxA9gQ9rE2yCHKYYOKSN",
      "include_colab_link": true
    },
    "kernelspec": {
      "name": "python3",
      "display_name": "Python 3"
    },
    "language_info": {
      "name": "python"
    }
  },
  "cells": [
    {
      "cell_type": "markdown",
      "metadata": {
        "id": "view-in-github",
        "colab_type": "text"
      },
      "source": [
        "<a href=\"https://colab.research.google.com/github/Nikkuchan/BleepBot/blob/main/masked_profanity.ipynb\" target=\"_parent\"><img src=\"https://colab.research.google.com/assets/colab-badge.svg\" alt=\"Open In Colab\"/></a>"
      ]
    },
    {
      "cell_type": "code",
      "execution_count": null,
      "metadata": {
        "id": "8BWlswmeMMev"
      },
      "outputs": [],
      "source": [
        "pip install profanityfilter"
      ]
    },
    {
      "cell_type": "code",
      "source": [
        "pip install SpeechRecognition"
      ],
      "metadata": {
        "id": "41iJrsUeNQbk"
      },
      "execution_count": null,
      "outputs": []
    },
    {
      "cell_type": "code",
      "source": [
        "import speech_recognition as sr\n",
        "r = sr.Recognizer()\n",
        "sampleOnly = sr.AudioFile('/content/Recording193.wav')\n",
        "with sampleOnly as source:\n",
        "  audio = r.record(source)\n",
        "type(audio)\n",
        "ty = r.recognize_google(audio, language=\"fil-PH\")"
      ],
      "metadata": {
        "id": "3XlFTPhTNS37"
      },
      "execution_count": 26,
      "outputs": []
    },
    {
      "cell_type": "code",
      "source": [
        "from profanityfilter import ProfanityFilter\n",
        "pf = ProfanityFilter()\n",
        "pf_profane = ProfanityFilter(custom_censor_list=[\"gago\", \"bobo\",\"tanga\",\"fuck\",\"putangina\"])"
      ],
      "metadata": {
        "id": "WuYhrXGFMUx2"
      },
      "execution_count": 27,
      "outputs": []
    },
    {
      "cell_type": "code",
      "source": [
        "ty"
      ],
      "metadata": {
        "colab": {
          "base_uri": "https://localhost:8080/",
          "height": 36
        },
        "id": "OCaBcNpNO4X2",
        "outputId": "81f95836-786a-4783-d62a-35171529b4e2"
      },
      "execution_count": 22,
      "outputs": [
        {
          "output_type": "execute_result",
          "data": {
            "text/plain": [
              "'hirap pang maging bobo'"
            ],
            "application/vnd.google.colaboratory.intrinsic+json": {
              "type": "string"
            }
          },
          "metadata": {},
          "execution_count": 22
        }
      ]
    },
    {
      "cell_type": "code",
      "source": [
        "pf_profane.censor(ty)"
      ],
      "metadata": {
        "colab": {
          "base_uri": "https://localhost:8080/",
          "height": 36
        },
        "id": "18foNEvaMsvt",
        "outputId": "6decec99-be7f-4980-f5dd-72bd31d0c49b"
      },
      "execution_count": 28,
      "outputs": [
        {
          "output_type": "execute_result",
          "data": {
            "text/plain": [
              "'hirap pang maging ****'"
            ],
            "application/vnd.google.colaboratory.intrinsic+json": {
              "type": "string"
            }
          },
          "metadata": {},
          "execution_count": 28
        }
      ]
    }
  ]
}