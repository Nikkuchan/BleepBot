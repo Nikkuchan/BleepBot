{
  "nbformat": 4,
  "nbformat_minor": 0,
  "metadata": {
    "colab": {
      "name": "UnnathiBased.ipynb",
      "provenance": [],
      "authorship_tag": "ABX9TyM9QHdG/GN2XRNdcGHc4wuQ",
      "include_colab_link": true
    },
    "kernelspec": {
      "name": "python3",
      "display_name": "Python 3"
    },
    "language_info": {
      "name": "python"
    }
  },
  "cells": [
    {
      "cell_type": "markdown",
      "metadata": {
        "id": "view-in-github",
        "colab_type": "text"
      },
      "source": [
        "<a href=\"https://colab.research.google.com/github/Nikkuchan/BleepBot/blob/main/UnnathiBased.ipynb\" target=\"_parent\"><img src=\"https://colab.research.google.com/assets/colab-badge.svg\" alt=\"Open In Colab\"/></a>"
      ]
    },
    {
      "cell_type": "code",
      "execution_count": 32,
      "metadata": {
        "id": "VVEjAnR78FIL"
      },
      "outputs": [],
      "source": [
        "import pandas as pd\n",
        "import numpy as np\n",
        "import tensorflow as tf\n",
        "from sklearn.feature_extraction.text import TfidfVectorizer\n",
        "from sklearn.feature_extraction.text import CountVectorizer\n",
        "from sklearn.feature_extraction.text import TfidfTransformer\n",
        "from sklearn.naive_bayes import MultinomialNB\n",
        "from sklearn.metrics import accuracy_score\n",
        "from sklearn.svm import LinearSVC\n",
        "from sklearn.svm import SVC\n",
        "from sklearn.ensemble import RandomForestClassifier\n",
        "from sklearn.model_selection import train_test_split\n",
        "from keras.models import Model\n",
        "from sklearn.metrics import classification_report\n",
        "from keras import layers, models, optimizers\n",
        "import sklearn.metrics as metrics\n",
        "from sklearn.feature_extraction import text \n"
      ]
    },
    {
      "cell_type": "code",
      "source": [
        "speech_data = pd.read_csv(\"profanitylabel.csv\")\n",
        "\n",
        "# split the dataset into training and testing datasets \n",
        "x_train, x_test, y_train, y_test = train_test_split(speech_data['Transcript'], speech_data['Category'], test_size=0.3, random_state=1)\n",
        "\n",
        "\n",
        "# create a count vectorizer object \n",
        "my_additional_stop_words = [\"akin\",\"ako\",\"mo\",\"ka\",\"tayo\",\"ikaw\",\"alin\",\"amin\",\n",
        "                 \"ay\",\"bababa\",\"dapat\",\"ginawa\",\"ginawang\",\"bawat\",\"ano\",\n",
        "                 \"dahil\",\"bilang\",\"tama\",\"na\",\"nga\",\"using\",\"si\",\"pati\",\"ang\",\n",
        "                 \"hala\",\"pre\",\"nag\",\"edi\",\"punta\",\"pinupuntahan\",\"lang\",\"sa\",\n",
        "                 \"mali\",\"-\",\"q\",\"mong\",\"date\",\"busog\",\"kayo\",\"kayong\",\"buka\",\n",
        "                 \"ibubuka\",\"nais\",\"try\",\"yung\",\"katropa\",\"gaya\",\"ng\",\"pic\",\"bang\",\n",
        "                 \"wala\",\"pakita\",\"computer\",\"ambag\",\"dito\",\"nabawasan\",\"bawas\",\n",
        "                 \"footballer\", \"napaka\",\"sayo\",\"balota\",\"bida\",\"pietro\",\"jett\",\n",
        "                 \"mag-text\",\"para\",\"may\",\"hindi\",\"ni\",\"ba\",\"dalawa\",\"salba\",\"tutok\",\n",
        "                 \"shadow\", \"install\",\"ballaran\",\"ito\",\"mga\",\"nalang\",\"noh\",\"baka\",\n",
        "                 \"samin\",\"mag\",\"nasa\",\"pa\",\"masa\",\"ata\",\"po\",\"ita\",\"ga\",\"kasi\",\"eh\",\n",
        "                 \"ol\",\"nang\",\"kang\",\"naman\",\"ko\",\"tae\",\"ata\",\"atang\",\"sana\",\"kung\",\"di\",\n",
        "                 \"ah\",\"much\",\"pag\"]\n",
        "\n",
        "stop_words = text.ENGLISH_STOP_WORDS.union(my_additional_stop_words)\n",
        "cv = CountVectorizer(stop_words='english')\n",
        "cv.fit(speech_data['Transcript'])\n",
        "\n",
        "# transform the training and testing data using count vectorizer object\n",
        "x_train_count =  cv.transform(x_train)\n",
        "x_test_count =  cv.transform(x_test)\n",
        "\n",
        "tfidf_tr = TfidfTransformer()\n",
        "x_train_count_tfidf = tfidf_tr.fit_transform(x_train_count)\n",
        "x_test_count_tfidf = tfidf_tr.transform(x_test_count)\n",
        "\n",
        "# ngram level tf-idf \n",
        "tv_ngram = TfidfVectorizer(ngram_range=(1,2))\n",
        "tv_ngram.fit(speech_data['Transcript'])\n",
        "x_train_tfidf_ngram =  tv_ngram.transform(x_train)\n",
        "x_test_tfidf_ngram =  tv_ngram.transform(x_test)"
      ],
      "metadata": {
        "id": "90FlcG4797k3"
      },
      "execution_count": 33,
      "outputs": []
    },
    {
      "cell_type": "code",
      "source": [
        "speech_data['Category'].value_counts()"
      ],
      "metadata": {
        "colab": {
          "base_uri": "https://localhost:8080/"
        },
        "id": "DqwB6sGkAt7F",
        "outputId": "95b4bb44-26b7-4097-991d-c7474bc86a93"
      },
      "execution_count": 34,
      "outputs": [
        {
          "output_type": "execute_result",
          "data": {
            "text/plain": [
              "bobo         100\n",
              "tanga        100\n",
              "gago         100\n",
              "fuck         100\n",
              "putangina     53\n",
              "tangina       47\n",
              "Name: Category, dtype: int64"
            ]
          },
          "metadata": {},
          "execution_count": 34
        }
      ]
    },
    {
      "cell_type": "code",
      "source": [
        "def classifierModel(classifier, Xtrain, Ytrain, Xtest):\n",
        "    classifier.fit(Xtrain, Ytrain)\n",
        "    predictions = classifier.predict(Xtest)\n",
        "    print(\"\\nAccuracy : \", accuracy_score(predictions, y_test))\n",
        "    \n",
        "    target_names = ['bobo', 'tanga','gago','fuck','putangina','tangina']\n",
        "    print(classification_report(y_test, predictions, target_names=target_names))"
      ],
      "metadata": {
        "id": "LuXUj1WKAcRX"
      },
      "execution_count": 35,
      "outputs": []
    },
    {
      "cell_type": "code",
      "source": [
        "print(\"\\nNaive Bayes with Count Vectors: \")\n",
        "classifierModel(MultinomialNB(), x_train_count, y_train, x_test_count)\n",
        "\n",
        "print(\"\\nNaive Bayes with Count Vectors + TF-IDF: \")\n",
        "classifierModel(MultinomialNB(), x_train_count_tfidf, y_train, x_test_count_tfidf)\n",
        "\n",
        "print(\"\\nNaive Bayes with N-Gram Vectors: \")\n",
        "classifierModel(MultinomialNB(), x_train_tfidf_ngram, y_train, x_test_tfidf_ngram)"
      ],
      "metadata": {
        "colab": {
          "base_uri": "https://localhost:8080/"
        },
        "id": "48DOzhQbAgyn",
        "outputId": "7c38bc5e-6ce0-412a-bbc7-181b72922640"
      },
      "execution_count": 36,
      "outputs": [
        {
          "output_type": "stream",
          "name": "stdout",
          "text": [
            "\n",
            "Naive Bayes with Count Vectors: \n",
            "\n",
            "Accuracy :  0.9066666666666666\n",
            "              precision    recall  f1-score   support\n",
            "\n",
            "        bobo       0.83      0.89      0.86        28\n",
            "       tanga       0.97      0.97      0.97        31\n",
            "        gago       0.94      1.00      0.97        30\n",
            "        fuck       1.00      0.65      0.79        20\n",
            "   putangina       0.87      0.96      0.91        27\n",
            "     tangina       0.86      0.86      0.86        14\n",
            "\n",
            "    accuracy                           0.91       150\n",
            "   macro avg       0.91      0.89      0.89       150\n",
            "weighted avg       0.91      0.91      0.90       150\n",
            "\n",
            "\n",
            "Naive Bayes with Count Vectors + TF-IDF: \n",
            "\n",
            "Accuracy :  0.7533333333333333\n",
            "              precision    recall  f1-score   support\n",
            "\n",
            "        bobo       0.68      0.89      0.77        28\n",
            "       tanga       0.91      0.94      0.92        31\n",
            "        gago       0.88      0.93      0.90        30\n",
            "        fuck       1.00      0.10      0.18        20\n",
            "   putangina       0.59      0.96      0.73        27\n",
            "     tangina       1.00      0.21      0.35        14\n",
            "\n",
            "    accuracy                           0.75       150\n",
            "   macro avg       0.84      0.67      0.64       150\n",
            "weighted avg       0.82      0.75      0.70       150\n",
            "\n",
            "\n",
            "Naive Bayes with N-Gram Vectors: \n",
            "\n",
            "Accuracy :  0.76\n",
            "              precision    recall  f1-score   support\n",
            "\n",
            "        bobo       0.68      0.96      0.79        28\n",
            "       tanga       0.91      0.94      0.92        31\n",
            "        gago       0.88      0.97      0.92        30\n",
            "        fuck       1.00      0.05      0.10        20\n",
            "   putangina       0.62      0.96      0.75        27\n",
            "     tangina       1.00      0.14      0.25        14\n",
            "\n",
            "    accuracy                           0.76       150\n",
            "   macro avg       0.85      0.67      0.62       150\n",
            "weighted avg       0.83      0.76      0.69       150\n",
            "\n"
          ]
        }
      ]
    },
    {
      "cell_type": "code",
      "source": [
        "print(\"\\nLinearSVM with Count Vectors: \")\n",
        "classifierModel(SVC(kernel='linear'), x_train_count, y_train, x_test_count)\n",
        "\n",
        "print(\"\\nLinearSVM with Count Vectors + TF-IDF: \")\n",
        "classifierModel(SVC(kernel='linear'), x_train_count_tfidf, y_train, x_test_count_tfidf)\n",
        "\n",
        "print(\"\\nLinearSVM with N-Gram Vectors: \")\n",
        "classifierModel(SVC(kernel='linear'), x_train_tfidf_ngram, y_train, x_test_tfidf_ngram)"
      ],
      "metadata": {
        "colab": {
          "base_uri": "https://localhost:8080/"
        },
        "id": "sUqBoQ6QC6J5",
        "outputId": "0ef68dd9-811b-4760-dfee-78f2090851cd"
      },
      "execution_count": 37,
      "outputs": [
        {
          "output_type": "stream",
          "name": "stdout",
          "text": [
            "\n",
            "LinearSVM with Count Vectors: \n",
            "\n",
            "Accuracy :  0.96\n",
            "              precision    recall  f1-score   support\n",
            "\n",
            "        bobo       1.00      0.89      0.94        28\n",
            "       tanga       0.86      1.00      0.93        31\n",
            "        gago       1.00      1.00      1.00        30\n",
            "        fuck       1.00      0.85      0.92        20\n",
            "   putangina       1.00      1.00      1.00        27\n",
            "     tangina       0.93      1.00      0.97        14\n",
            "\n",
            "    accuracy                           0.96       150\n",
            "   macro avg       0.97      0.96      0.96       150\n",
            "weighted avg       0.97      0.96      0.96       150\n",
            "\n",
            "\n",
            "LinearSVM with Count Vectors + TF-IDF: \n",
            "\n",
            "Accuracy :  0.9733333333333334\n",
            "              precision    recall  f1-score   support\n",
            "\n",
            "        bobo       1.00      0.96      0.98        28\n",
            "       tanga       0.97      1.00      0.98        31\n",
            "        gago       1.00      1.00      1.00        30\n",
            "        fuck       0.95      0.90      0.92        20\n",
            "   putangina       0.93      1.00      0.96        27\n",
            "     tangina       1.00      0.93      0.96        14\n",
            "\n",
            "    accuracy                           0.97       150\n",
            "   macro avg       0.97      0.97      0.97       150\n",
            "weighted avg       0.97      0.97      0.97       150\n",
            "\n",
            "\n",
            "LinearSVM with N-Gram Vectors: \n",
            "\n",
            "Accuracy :  0.9533333333333334\n",
            "              precision    recall  f1-score   support\n",
            "\n",
            "        bobo       1.00      0.93      0.96        28\n",
            "       tanga       0.97      1.00      0.98        31\n",
            "        gago       0.94      1.00      0.97        30\n",
            "        fuck       0.94      0.80      0.86        20\n",
            "   putangina       0.90      1.00      0.95        27\n",
            "     tangina       1.00      0.93      0.96        14\n",
            "\n",
            "    accuracy                           0.95       150\n",
            "   macro avg       0.96      0.94      0.95       150\n",
            "weighted avg       0.96      0.95      0.95       150\n",
            "\n"
          ]
        }
      ]
    },
    {
      "cell_type": "code",
      "source": [
        "print(\"\\nRandom Forrest Classifier with Count Vectors: \")\n",
        "classifierModel(RandomForestClassifier(random_state=40,n_estimators=1024), x_train_count, y_train, x_test_count)\n",
        "\n",
        "print(\"\\nRandom Forrest Classifier with Count Vectors + TF-IDF: \")\n",
        "classifierModel(RandomForestClassifier(random_state=40,n_estimators=1024), x_train_count_tfidf, y_train, x_test_count_tfidf)\n",
        "\n",
        "print(\"\\nRandom Forrest Classifier with N-Gram Vectors: \")\n",
        "classifierModel(RandomForestClassifier(random_state=40,n_estimators=1024), x_train_tfidf_ngram, y_train, x_test_tfidf_ngram)"
      ],
      "metadata": {
        "colab": {
          "base_uri": "https://localhost:8080/"
        },
        "id": "HEB7V49eDDHf",
        "outputId": "af135a12-1bca-490e-b65d-4a2c3c8709fd"
      },
      "execution_count": 38,
      "outputs": [
        {
          "output_type": "stream",
          "name": "stdout",
          "text": [
            "\n",
            "Random Forrest Classifier with Count Vectors: \n",
            "\n",
            "Accuracy :  0.9533333333333334\n",
            "              precision    recall  f1-score   support\n",
            "\n",
            "        bobo       0.96      0.89      0.93        28\n",
            "       tanga       0.94      1.00      0.97        31\n",
            "        gago       1.00      1.00      1.00        30\n",
            "        fuck       0.94      0.85      0.89        20\n",
            "   putangina       0.96      1.00      0.98        27\n",
            "     tangina       0.87      0.93      0.90        14\n",
            "\n",
            "    accuracy                           0.95       150\n",
            "   macro avg       0.95      0.95      0.94       150\n",
            "weighted avg       0.95      0.95      0.95       150\n",
            "\n",
            "\n",
            "Random Forrest Classifier with Count Vectors + TF-IDF: \n",
            "\n",
            "Accuracy :  0.9533333333333334\n",
            "              precision    recall  f1-score   support\n",
            "\n",
            "        bobo       1.00      0.89      0.94        28\n",
            "       tanga       0.91      1.00      0.95        31\n",
            "        gago       1.00      1.00      1.00        30\n",
            "        fuck       0.94      0.85      0.89        20\n",
            "   putangina       0.93      1.00      0.96        27\n",
            "     tangina       0.93      0.93      0.93        14\n",
            "\n",
            "    accuracy                           0.95       150\n",
            "   macro avg       0.95      0.95      0.95       150\n",
            "weighted avg       0.96      0.95      0.95       150\n",
            "\n",
            "\n",
            "Random Forrest Classifier with N-Gram Vectors: \n",
            "\n",
            "Accuracy :  0.96\n",
            "              precision    recall  f1-score   support\n",
            "\n",
            "        bobo       1.00      0.89      0.94        28\n",
            "       tanga       0.97      1.00      0.98        31\n",
            "        gago       0.97      1.00      0.98        30\n",
            "        fuck       0.95      0.90      0.92        20\n",
            "   putangina       0.93      1.00      0.96        27\n",
            "     tangina       0.93      0.93      0.93        14\n",
            "\n",
            "    accuracy                           0.96       150\n",
            "   macro avg       0.96      0.95      0.95       150\n",
            "weighted avg       0.96      0.96      0.96       150\n",
            "\n"
          ]
        }
      ]
    }
  ]
}