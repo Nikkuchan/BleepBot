{
  "nbformat": 4,
  "nbformat_minor": 0,
  "metadata": {
    "colab": {
      "name": "UnnathiBased.ipynb",
      "provenance": [],
      "authorship_tag": "ABX9TyPONaKzxK5C/dhRgchFbxV/",
      "include_colab_link": true
    },
    "kernelspec": {
      "name": "python3",
      "display_name": "Python 3"
    },
    "language_info": {
      "name": "python"
    }
  },
  "cells": [
    {
      "cell_type": "markdown",
      "metadata": {
        "id": "view-in-github",
        "colab_type": "text"
      },
      "source": [
        "<a href=\"https://colab.research.google.com/github/Nikkuchan/BleepBot/blob/main/UnnathiBased.ipynb\" target=\"_parent\"><img src=\"https://colab.research.google.com/assets/colab-badge.svg\" alt=\"Open In Colab\"/></a>"
      ]
    },
    {
      "cell_type": "code",
      "execution_count": 12,
      "metadata": {
        "colab": {
          "base_uri": "https://localhost:8080/",
          "height": 17
        },
        "id": "VVEjAnR78FIL",
        "outputId": "4424f78f-93fd-4001-fca4-89111b2ac9aa"
      },
      "outputs": [
        {
          "output_type": "display_data",
          "data": {
            "text/plain": [
              "<IPython.core.display.HTML object>"
            ],
            "text/html": [
              "\n",
              "  <style>\n",
              "    pre {\n",
              "        white-space: pre-wrap;\n",
              "    }\n",
              "  </style>\n",
              "  "
            ]
          },
          "metadata": {}
        }
      ],
      "source": [
        "import pandas as pd\n",
        "import numpy as np\n",
        "import tensorflow as tf\n",
        "from sklearn.feature_extraction.text import TfidfVectorizer\n",
        "from sklearn.feature_extraction.text import CountVectorizer\n",
        "from sklearn.feature_extraction.text import TfidfTransformer\n",
        "from sklearn.naive_bayes import MultinomialNB\n",
        "from sklearn.metrics import accuracy_score\n",
        "from sklearn.svm import LinearSVC\n",
        "from sklearn.svm import SVC\n",
        "from sklearn.ensemble import RandomForestClassifier\n",
        "from sklearn.model_selection import train_test_split\n",
        "from keras.models import Model\n",
        "from sklearn.metrics import classification_report\n",
        "from keras import layers, models, optimizers\n",
        "import sklearn.metrics as metrics\n",
        "from sklearn.feature_extraction import text \n",
        "import pickle\n"
      ]
    },
    {
      "cell_type": "code",
      "source": [
        "from sklearn.metrics import RocCurveDisplay\n",
        "from sklearn.datasets import load_wine"
      ],
      "metadata": {
        "colab": {
          "base_uri": "https://localhost:8080/",
          "height": 17
        },
        "id": "CIGvPo0bfelA",
        "outputId": "46b335ec-98ce-48bf-e472-8807379a4b7d"
      },
      "execution_count": 135,
      "outputs": [
        {
          "output_type": "display_data",
          "data": {
            "text/plain": [
              "<IPython.core.display.HTML object>"
            ],
            "text/html": [
              "\n",
              "  <style>\n",
              "    pre {\n",
              "        white-space: pre-wrap;\n",
              "    }\n",
              "  </style>\n",
              "  "
            ]
          },
          "metadata": {}
        },
        {
          "output_type": "display_data",
          "data": {
            "text/plain": [
              "<IPython.core.display.HTML object>"
            ],
            "text/html": [
              "\n",
              "  <style>\n",
              "    pre {\n",
              "        white-space: pre-wrap;\n",
              "    }\n",
              "  </style>\n",
              "  "
            ]
          },
          "metadata": {}
        },
        {
          "output_type": "display_data",
          "data": {
            "text/plain": [
              "<IPython.core.display.HTML object>"
            ],
            "text/html": [
              "\n",
              "  <style>\n",
              "    pre {\n",
              "        white-space: pre-wrap;\n",
              "    }\n",
              "  </style>\n",
              "  "
            ]
          },
          "metadata": {}
        }
      ]
    },
    {
      "cell_type": "code",
      "source": [
        "#just for word wrap purposes :)\n",
        "from IPython.display import HTML, display\n",
        "\n",
        "def set_css():\n",
        "  display(HTML('''\n",
        "  <style>\n",
        "    pre {\n",
        "        white-space: pre-wrap;\n",
        "    }\n",
        "  </style>\n",
        "  '''))\n",
        "get_ipython().events.register('pre_run_cell', set_css)"
      ],
      "metadata": {
        "id": "_boGYpXqcQPV"
      },
      "execution_count": 2,
      "outputs": []
    },
    {
      "cell_type": "code",
      "source": [
        "speech_data = pd.read_csv('/content/profanitylabel5CAT.csv')\n",
        "\n",
        "# split the dataset into training and testing datasets \n",
        "x_train, x_test, y_train, y_test = train_test_split(speech_data['Transcript'], speech_data['Category'], test_size=0.3, random_state=1)\n",
        "\n",
        "\n",
        "# create a count vectorizer object \n",
        "my_additional_stop_words = [\"akin\",\"ako\",\"mo\",\"ka\",\"tayo\",\"ikaw\",\"alin\",\"amin\",\n",
        "                 \"ay\",\"bababa\",\"dapat\",\"ginawa\",\"ginawang\",\"bawat\",\"ano\",\n",
        "                 \"dahil\",\"bilang\",\"tama\",\"na\",\"nga\",\"using\",\"si\",\"pati\",\"ang\",\n",
        "                 \"hala\",\"pre\",\"nag\",\"edi\",\"punta\",\"pinupuntahan\",\"lang\",\"sa\",\n",
        "                 \"mali\",\"-\",\"q\",\"mong\",\"date\",\"busog\",\"kayo\",\"kayong\",\"buka\",\n",
        "                 \"ibubuka\",\"nais\",\"try\",\"yung\",\"katropa\",\"gaya\",\"ng\",\"pic\",\"bang\",\n",
        "                 \"wala\",\"pakita\",\"computer\",\"ambag\",\"dito\",\"nabawasan\",\"bawas\",\n",
        "                 \"footballer\", \"napaka\",\"sayo\",\"balota\",\"bida\",\"pietro\",\"jett\",\n",
        "                 \"mag-text\",\"para\",\"may\",\"hindi\",\"ni\",\"ba\",\"dalawa\",\"salba\",\"tutok\",\n",
        "                 \"shadow\", \"install\",\"ballaran\",\"ito\",\"mga\",\"nalang\",\"noh\",\"baka\",\n",
        "                 \"samin\",\"mag\",\"nasa\",\"pa\",\"masa\",\"ata\",\"po\",\"ita\",\"ga\",\"kasi\",\"eh\",\n",
        "                 \"ol\",\"nang\",\"kang\",\"naman\",\"ko\",\"tae\",\"ata\",\"atang\",\"sana\",\"kung\",\"di\",\n",
        "                 \"ah\",\"much\",\"pag\",\"ni\",\"pagiging\",\"ha\",\"mo\",\"kasi\"]\n",
        "\n",
        "stop_words = text.ENGLISH_STOP_WORDS.union(my_additional_stop_words)\n",
        "cv = CountVectorizer(stop_words='english')\n",
        "cv.fit(speech_data['Transcript'])\n",
        "\n",
        "# transform the training and testing data using count vectorizer object\n",
        "x_train_count =  cv.transform(x_train)\n",
        "x_test_count =  cv.transform(x_test)\n",
        "\n",
        "tfidf_tr = TfidfTransformer()\n",
        "x_train_count_tfidf = tfidf_tr.fit_transform(x_train_count)\n",
        "x_test_count_tfidf = tfidf_tr.transform(x_test_count)\n",
        "\n",
        "# ngram level tf-idf \n",
        "tv_ngram = TfidfVectorizer(ngram_range=(1,2))\n",
        "tv_ngram.fit(speech_data['Transcript'])\n",
        "x_train_tfidf_ngram =  tv_ngram.transform(x_train)\n",
        "x_test_tfidf_ngram =  tv_ngram.transform(x_test)"
      ],
      "metadata": {
        "colab": {
          "base_uri": "https://localhost:8080/",
          "height": 17
        },
        "id": "90FlcG4797k3",
        "outputId": "dab726f8-f3c6-40c9-a60c-ed5a7c5a1e6c"
      },
      "execution_count": 3,
      "outputs": [
        {
          "output_type": "display_data",
          "data": {
            "text/plain": [
              "<IPython.core.display.HTML object>"
            ],
            "text/html": [
              "\n",
              "  <style>\n",
              "    pre {\n",
              "        white-space: pre-wrap;\n",
              "    }\n",
              "  </style>\n",
              "  "
            ]
          },
          "metadata": {}
        }
      ]
    },
    {
      "cell_type": "code",
      "source": [
        "print(x_train_count_tfidf)"
      ],
      "metadata": {
        "id": "LNt4AFwKcz3N"
      },
      "execution_count": null,
      "outputs": []
    },
    {
      "cell_type": "code",
      "source": [
        "print(cv.vocabulary_)"
      ],
      "metadata": {
        "id": "XzFdUWYlaoXM"
      },
      "execution_count": null,
      "outputs": []
    },
    {
      "cell_type": "code",
      "source": [
        "# encode document\n",
        "vector = cv.transform(speech_data['Transcript'])\n",
        "# summarize encoded vector\n",
        "print(vector.shape)\n",
        "print(vector.toarray())"
      ],
      "metadata": {
        "colab": {
          "base_uri": "https://localhost:8080/",
          "height": 163
        },
        "id": "i5xlWI7Qd7DL",
        "outputId": "0d5483ae-84dc-4615-b63f-d3d951caf7f7"
      },
      "execution_count": 4,
      "outputs": [
        {
          "output_type": "display_data",
          "data": {
            "text/plain": [
              "<IPython.core.display.HTML object>"
            ],
            "text/html": [
              "\n",
              "  <style>\n",
              "    pre {\n",
              "        white-space: pre-wrap;\n",
              "    }\n",
              "  </style>\n",
              "  "
            ]
          },
          "metadata": {}
        },
        {
          "output_type": "stream",
          "name": "stdout",
          "text": [
            "(500, 477)\n",
            "[[0 0 0 ... 0 0 0]\n",
            " [0 0 0 ... 0 0 0]\n",
            " [0 0 0 ... 0 0 0]\n",
            " ...\n",
            " [0 0 0 ... 0 0 0]\n",
            " [0 0 0 ... 0 0 0]\n",
            " [0 0 0 ... 0 0 0]]\n"
          ]
        }
      ]
    },
    {
      "cell_type": "code",
      "source": [
        "speech_data['Category'].value_counts()"
      ],
      "metadata": {
        "colab": {
          "base_uri": "https://localhost:8080/",
          "height": 126
        },
        "id": "DqwB6sGkAt7F",
        "outputId": "6fae8c61-c5ad-4e68-e21e-d8a77b1e8f29"
      },
      "execution_count": 5,
      "outputs": [
        {
          "output_type": "display_data",
          "data": {
            "text/plain": [
              "<IPython.core.display.HTML object>"
            ],
            "text/html": [
              "\n",
              "  <style>\n",
              "    pre {\n",
              "        white-space: pre-wrap;\n",
              "    }\n",
              "  </style>\n",
              "  "
            ]
          },
          "metadata": {}
        },
        {
          "output_type": "execute_result",
          "data": {
            "text/plain": [
              "putangina    100\n",
              "bobo         100\n",
              "tanga        100\n",
              "gago         100\n",
              "fuck         100\n",
              "Name: Category, dtype: int64"
            ]
          },
          "metadata": {},
          "execution_count": 5
        }
      ]
    },
    {
      "cell_type": "code",
      "source": [
        "def classifierModel(classifier, Xtrain, Ytrain, Xtest):\n",
        "    classifier.fit(Xtrain, Ytrain)\n",
        "    predictions = classifier.predict(Xtest)\n",
        "    print(\"\\nAccuracy : \", accuracy_score(predictions, y_test))\n",
        "    \n",
        "    target_names = ['bobo', 'tanga','gago','fuck','putangina']\n",
        "    print(classification_report(y_test, predictions, target_names=target_names))"
      ],
      "metadata": {
        "colab": {
          "base_uri": "https://localhost:8080/",
          "height": 17
        },
        "id": "LuXUj1WKAcRX",
        "outputId": "d3496414-2292-477f-d868-2542691fbfe3"
      },
      "execution_count": 6,
      "outputs": [
        {
          "output_type": "display_data",
          "data": {
            "text/plain": [
              "<IPython.core.display.HTML object>"
            ],
            "text/html": [
              "\n",
              "  <style>\n",
              "    pre {\n",
              "        white-space: pre-wrap;\n",
              "    }\n",
              "  </style>\n",
              "  "
            ]
          },
          "metadata": {}
        }
      ]
    },
    {
      "cell_type": "code",
      "source": [
        "print(\"\\nNaive Bayes with Count Vectors: \")\n",
        "classifierModel(MultinomialNB(), x_train_count, y_train, x_test_count)\n",
        "\n",
        "# print(\"\\nNaive Bayes with Count Vectors + TF-IDF: \")\n",
        "# classifierModel(MultinomialNB(), x_train_count_tfidf, y_train, x_test_count_tfidf)\n",
        "\n",
        "# print(\"\\nNaive Bayes with N-Gram Vectors: \")\n",
        "# classifierModel(MultinomialNB(), x_train_tfidf_ngram, y_train, x_test_tfidf_ngram)"
      ],
      "metadata": {
        "colab": {
          "base_uri": "https://localhost:8080/",
          "height": 309
        },
        "id": "48DOzhQbAgyn",
        "outputId": "4b52f153-d7b3-458a-f2d2-ef2129791b70"
      },
      "execution_count": 7,
      "outputs": [
        {
          "output_type": "display_data",
          "data": {
            "text/plain": [
              "<IPython.core.display.HTML object>"
            ],
            "text/html": [
              "\n",
              "  <style>\n",
              "    pre {\n",
              "        white-space: pre-wrap;\n",
              "    }\n",
              "  </style>\n",
              "  "
            ]
          },
          "metadata": {}
        },
        {
          "output_type": "stream",
          "name": "stdout",
          "text": [
            "\n",
            "Naive Bayes with Count Vectors: \n",
            "\n",
            "Accuracy :  0.9466666666666667\n",
            "              precision    recall  f1-score   support\n",
            "\n",
            "        bobo       0.96      0.89      0.93        28\n",
            "       tanga       0.97      0.97      0.97        31\n",
            "        gago       0.97      1.00      0.98        30\n",
            "        fuck       0.94      0.91      0.93        34\n",
            "   putangina       0.90      0.96      0.93        27\n",
            "\n",
            "    accuracy                           0.95       150\n",
            "   macro avg       0.95      0.95      0.95       150\n",
            "weighted avg       0.95      0.95      0.95       150\n",
            "\n"
          ]
        }
      ]
    },
    {
      "cell_type": "code",
      "source": [
        "# pickle.dump(MultinomialNB(), open(\"multiNB.pkl\"))"
      ],
      "metadata": {
        "id": "OEoP1AepMMVP"
      },
      "execution_count": null,
      "outputs": []
    },
    {
      "cell_type": "code",
      "source": [
        "# print(\"\\nLinearSVM with Count Vectors: \")\n",
        "# classifierModel(SVC(kernel='linear'), x_train_count, y_train, x_test_count)\n",
        "\n",
        "# print(\"\\nLinearSVM with Count Vectors + TF-IDF: \")\n",
        "# classifierModel(SVC(kernel='linear'), x_train_count_tfidf, y_train, x_test_count_tfidf)\n",
        "\n",
        "# print(\"\\nLinearSVM with N-Gram Vectors: \")\n",
        "# classifierModel(SVC(kernel='linear'), x_train_tfidf_ngram, y_train, x_test_tfidf_ngram)"
      ],
      "metadata": {
        "id": "sUqBoQ6QC6J5"
      },
      "execution_count": null,
      "outputs": []
    },
    {
      "cell_type": "code",
      "source": [
        "# print(\"\\nRandom Forrest Classifier with Count Vectors: \")\n",
        "# classifierModel(RandomForestClassifier(random_state=40,n_estimators=1024), x_train_count, y_train, x_test_count)\n",
        "\n",
        "# print(\"\\nRandom Forrest Classifier with Count Vectors + TF-IDF: \")\n",
        "# classifierModel(RandomForestClassifier(random_state=40,n_estimators=1024), x_train_count_tfidf, y_train, x_test_count_tfidf)\n",
        "\n",
        "# print(\"\\nRandom Forrest Classifier with N-Gram Vectors: \")\n",
        "# classifierModel(RandomForestClassifier(random_state=40,n_estimators=1024), x_train_tfidf_ngram, y_train, x_test_tfidf_ngram)"
      ],
      "metadata": {
        "id": "HEB7V49eDDHf"
      },
      "execution_count": null,
      "outputs": []
    }
  ]
}