{
  "nbformat": 4,
  "nbformat_minor": 0,
  "metadata": {
    "colab": {
      "name": "new_wav_to_text.ipynb",
      "provenance": [],
      "include_colab_link": true
    },
    "kernelspec": {
      "name": "python3",
      "display_name": "Python 3"
    },
    "language_info": {
      "name": "python"
    }
  },
  "cells": [
    {
      "cell_type": "markdown",
      "metadata": {
        "id": "view-in-github",
        "colab_type": "text"
      },
      "source": [
        "<a href=\"https://colab.research.google.com/github/Nikkuchan/BleepBot/blob/main/new_wav_to_text.ipynb\" target=\"_parent\"><img src=\"https://colab.research.google.com/assets/colab-badge.svg\" alt=\"Open In Colab\"/></a>"
      ]
    },
    {
      "cell_type": "markdown",
      "source": [
        "# Install library"
      ],
      "metadata": {
        "id": "AKARGH96UnSX"
      }
    },
    {
      "cell_type": "code",
      "source": [
        "from google.colab import drive\n",
        "drive.mount('/content/drive')"
      ],
      "metadata": {
        "colab": {
          "base_uri": "https://localhost:8080/"
        },
        "id": "0hOMkKX87aHy",
        "outputId": "e14214e6-8af5-4707-ca19-ed41fd5421aa"
      },
      "execution_count": null,
      "outputs": [
        {
          "output_type": "stream",
          "name": "stdout",
          "text": [
            "Mounted at /content/drive\n"
          ]
        }
      ]
    },
    {
      "cell_type": "code",
      "source": [
        "!pip install speechrecognition"
      ],
      "metadata": {
        "colab": {
          "base_uri": "https://localhost:8080/"
        },
        "id": "HDnSOYhR_bTo",
        "outputId": "46d97741-e9cf-420e-9e8b-e196bb97033d"
      },
      "execution_count": null,
      "outputs": [
        {
          "output_type": "stream",
          "name": "stdout",
          "text": [
            "Collecting speechrecognition\n",
            "  Downloading SpeechRecognition-3.8.1-py2.py3-none-any.whl (32.8 MB)\n",
            "\u001b[K     |████████████████████████████████| 32.8 MB 1.2 MB/s \n",
            "\u001b[?25hInstalling collected packages: speechrecognition\n",
            "Successfully installed speechrecognition-3.8.1\n"
          ]
        }
      ]
    },
    {
      "cell_type": "markdown",
      "source": [
        "# Import library"
      ],
      "metadata": {
        "id": "5llgPyNpU1nB"
      }
    },
    {
      "cell_type": "code",
      "source": [
        "import google-api-python-client as sr"
      ],
      "metadata": {
        "id": "2-0NC9NgCKu_",
        "colab": {
          "base_uri": "https://localhost:8080/",
          "height": 130
        },
        "outputId": "4ba32222-16ef-44ba-8e7d-8b2a7eb16b90"
      },
      "execution_count": null,
      "outputs": [
        {
          "output_type": "error",
          "ename": "SyntaxError",
          "evalue": "ignored",
          "traceback": [
            "\u001b[0;36m  File \u001b[0;32m\"<ipython-input-7-098f7e8a9746>\"\u001b[0;36m, line \u001b[0;32m1\u001b[0m\n\u001b[0;31m    import google-api-python-client as sr\u001b[0m\n\u001b[0m                 ^\u001b[0m\n\u001b[0;31mSyntaxError\u001b[0m\u001b[0;31m:\u001b[0m invalid syntax\n"
          ]
        }
      ]
    },
    {
      "cell_type": "code",
      "source": [
        "r = sr.Recognizer()\n",
        "r"
      ],
      "metadata": {
        "colab": {
          "base_uri": "https://localhost:8080/"
        },
        "id": "7mO951r7Ct-s",
        "outputId": "ca6679b7-b052-4ff4-86a2-ee36a60fb880"
      },
      "execution_count": null,
      "outputs": [
        {
          "output_type": "execute_result",
          "data": {
            "text/plain": [
              "<speech_recognition.Recognizer at 0x7f8e881fe050>"
            ]
          },
          "metadata": {},
          "execution_count": 5
        }
      ]
    },
    {
      "cell_type": "markdown",
      "source": [
        "# Import audio file"
      ],
      "metadata": {
        "id": "oFk7YQgcU8bN"
      }
    },
    {
      "cell_type": "code",
      "execution_count": null,
      "metadata": {
        "id": "449587fe",
        "colab": {
          "base_uri": "https://localhost:8080/"
        },
        "outputId": "9c817d46-eee3-4154-f9f6-0549d7748277"
      },
      "outputs": [
        {
          "output_type": "stream",
          "name": "stdout",
          "text": [
            "/usr/local/lib/python3.7/dist-packages/gdown/cli.py:131: FutureWarning: Option `--id` was deprecated in version 4.3.1 and will be removed in 5.0. You don't need to pass it anymore to use a file ID.\n",
            "  category=FutureWarning,\n",
            "Downloading...\n",
            "From: https://drive.google.com/uc?id=1cevzo1ebrJjaebEWRjQGuQvIMpGVaKtS\n",
            "To: /content/audio (32).wav\n",
            "100% 2.03M/2.03M [00:00<00:00, 157MB/s]\n"
          ]
        }
      ],
      "source": [
        "# id file of gdrive shareable link\n",
        "! gdown --id 1cevzo1ebrJjaebEWRjQGuQvIMpGVaKtS"
      ]
    },
    {
      "cell_type": "code",
      "source": [
        "vaudio = sr.AudioFile('/content/audio (32).wav')\n",
        "with vaudio as source:\n",
        "  audio = r.record(source, duration=12)"
      ],
      "metadata": {
        "id": "WzJdNbryC9H0"
      },
      "execution_count": null,
      "outputs": []
    },
    {
      "cell_type": "code",
      "source": [
        "type(audio)"
      ],
      "metadata": {
        "colab": {
          "base_uri": "https://localhost:8080/"
        },
        "id": "A2CpWmm9GpZ9",
        "outputId": "31b6a090-b6ef-41ac-a9c9-ae2595f1adb9"
      },
      "execution_count": null,
      "outputs": [
        {
          "output_type": "execute_result",
          "data": {
            "text/plain": [
              "speech_recognition.AudioData"
            ]
          },
          "metadata": {},
          "execution_count": 25
        }
      ]
    },
    {
      "cell_type": "markdown",
      "source": [
        "# Convert Audio to Text"
      ],
      "metadata": {
        "id": "BslLtZ58VAAP"
      }
    },
    {
      "cell_type": "code",
      "source": [
        "text = r.recognize_google(audio, language=\"fil-PH\", show_all=True)\n",
        "text"
      ],
      "metadata": {
        "colab": {
          "base_uri": "https://localhost:8080/",
          "height": 53
        },
        "id": "MtI-v_hUGtpE",
        "outputId": "ef87648d-29c1-4745-ed81-fe9987eea1f6"
      },
      "execution_count": null,
      "outputs": [
        {
          "output_type": "execute_result",
          "data": {
            "text/plain": [
              "'p********* ang sinasabi ko sayo sorry hindi mo yan p******** naiirita na ako t******* p********* nung kalaban nakakabwisit sa gabi 7 7 p********'"
            ],
            "application/vnd.google.colaboratory.intrinsic+json": {
              "type": "string"
            }
          },
          "metadata": {},
          "execution_count": 26
        }
      ]
    }
  ]
}