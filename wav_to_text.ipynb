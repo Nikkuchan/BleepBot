{
  "nbformat": 4,
  "nbformat_minor": 0,
  "metadata": {
    "colab": {
      "name": "wav_to_text.ipynb",
      "provenance": [],
      "include_colab_link": true
    },
    "kernelspec": {
      "name": "python3",
      "display_name": "Python 3"
    },
    "language_info": {
      "name": "python"
    }
  },
  "cells": [
    {
      "cell_type": "markdown",
      "metadata": {
        "id": "view-in-github",
        "colab_type": "text"
      },
      "source": [
        "<a href=\"https://colab.research.google.com/github/Nikkuchan/BleepBot/blob/main/wav_to_text.ipynb\" target=\"_parent\"><img src=\"https://colab.research.google.com/assets/colab-badge.svg\" alt=\"Open In Colab\"/></a>"
      ]
    },
    {
      "cell_type": "markdown",
      "source": [
        "# Install library"
      ],
      "metadata": {
        "id": "AKARGH96UnSX"
      }
    },
    {
      "cell_type": "code",
      "source": [
        "pip install speechrecognition"
      ],
      "metadata": {
        "colab": {
          "base_uri": "https://localhost:8080/"
        },
        "id": "HDnSOYhR_bTo",
        "outputId": "75d905d9-0d29-47ac-d2d8-6137695e7ec2"
      },
      "execution_count": null,
      "outputs": [
        {
          "output_type": "stream",
          "name": "stdout",
          "text": [
            "Collecting speechrecognition\n",
            "  Downloading SpeechRecognition-3.8.1-py2.py3-none-any.whl (32.8 MB)\n",
            "\u001b[K     |████████████████████████████████| 32.8 MB 44.3 MB/s \n",
            "\u001b[?25hInstalling collected packages: speechrecognition\n",
            "Successfully installed speechrecognition-3.8.1\n"
          ]
        }
      ]
    },
    {
      "cell_type": "markdown",
      "source": [
        "# Import library"
      ],
      "metadata": {
        "id": "5llgPyNpU1nB"
      }
    },
    {
      "cell_type": "code",
      "source": [
        "import speech_recognition as sr"
      ],
      "metadata": {
        "id": "2-0NC9NgCKu_"
      },
      "execution_count": null,
      "outputs": []
    },
    {
      "cell_type": "code",
      "source": [
        "r = sr.Recognizer()\n",
        "r"
      ],
      "metadata": {
        "colab": {
          "base_uri": "https://localhost:8080/"
        },
        "id": "7mO951r7Ct-s",
        "outputId": "1ed95d51-ad80-4f59-9301-d7143cb168e8"
      },
      "execution_count": null,
      "outputs": [
        {
          "output_type": "execute_result",
          "data": {
            "text/plain": [
              "<speech_recognition.Recognizer at 0x7ff5adde8650>"
            ]
          },
          "metadata": {},
          "execution_count": 3
        }
      ]
    },
    {
      "cell_type": "markdown",
      "source": [
        "# Import audio file"
      ],
      "metadata": {
        "id": "oFk7YQgcU8bN"
      }
    },
    {
      "cell_type": "code",
      "execution_count": null,
      "metadata": {
        "id": "449587fe",
        "colab": {
          "base_uri": "https://localhost:8080/"
        },
        "outputId": "95f13f5b-e116-4e7e-df28-6d94ba4f867b"
      },
      "outputs": [
        {
          "output_type": "stream",
          "name": "stdout",
          "text": [
            "Downloading...\n",
            "From: https://drive.google.com/uc?id=1ngrGfbM74IqmJBuGJL-iOPNR8yfrhyfA\n",
            "To: /content/sample_trashtalk.wav\n",
            "100% 5.94M/5.94M [00:00<00:00, 34.5MB/s]\n"
          ]
        }
      ],
      "source": [
        "# id file of gdrive shareable link\n",
        "! gdown --id 1ngrGfbM74IqmJBuGJL-iOPNR8yfrhyfA"
      ]
    },
    {
      "cell_type": "code",
      "source": [
        "vaudio = sr.AudioFile('/content/sample_trashtalk.wav')\n",
        "with vaudio as source:\n",
        "  audio = r.record(source, duration=5)"
      ],
      "metadata": {
        "id": "WzJdNbryC9H0"
      },
      "execution_count": null,
      "outputs": []
    },
    {
      "cell_type": "code",
      "source": [
        "type(audio)"
      ],
      "metadata": {
        "colab": {
          "base_uri": "https://localhost:8080/"
        },
        "id": "A2CpWmm9GpZ9",
        "outputId": "dfa5ddb7-8886-422a-dfff-7f25f80049d1"
      },
      "execution_count": null,
      "outputs": [
        {
          "output_type": "execute_result",
          "data": {
            "text/plain": [
              "speech_recognition.AudioData"
            ]
          },
          "metadata": {},
          "execution_count": 18
        }
      ]
    },
    {
      "cell_type": "markdown",
      "source": [
        "# Convert Audio to Text"
      ],
      "metadata": {
        "id": "BslLtZ58VAAP"
      }
    },
    {
      "cell_type": "code",
      "source": [
        "text = r.recognize_google(audio, language=\"fil-PH\")\n",
        "text"
      ],
      "metadata": {
        "colab": {
          "base_uri": "https://localhost:8080/",
          "height": 35
        },
        "id": "MtI-v_hUGtpE",
        "outputId": "f2443387-b8cc-488a-b558-fb6e0f48fcb6"
      },
      "execution_count": null,
      "outputs": [
        {
          "output_type": "execute_result",
          "data": {
            "application/vnd.google.colaboratory.intrinsic+json": {
              "type": "string"
            },
            "text/plain": [
              "'Patay ka pa p********* ka'"
            ]
          },
          "metadata": {},
          "execution_count": 19
        }
      ]
    }
  ]
}